{
 "cells": [
  {
   "cell_type": "code",
   "execution_count": null,
   "metadata": {},
   "outputs": [],
   "source": [
    "from PIL import Image\n",
    "from os import path\n",
    "from random import randint\n",
    "from matplotlib import pyplot as plt\n",
    "import numpy as np\n",
    "root_dir='/home/mate/dataset/ImageNetVal/'\n",
    "filename = 'ILSVRC2012_val_{:08}.JPEG'.format(randint(0, 50000))\n",
    "im_path = path.join(root_dir, filename)\n",
    "im = Image.open(im_path)\n",
    "im.show()\n"
   ]
  },
  {
   "cell_type": "code",
   "execution_count": null,
   "metadata": {},
   "outputs": [],
   "source": [
    "filename = 'ILSVRC2012_val_{:08}.JPEG'.format(randint(0, 50000))\n",
    "im_path = path.join(root_dir, filename)\n",
    "im = Image.open(im_path)\n",
    "print(im.size)\n",
    "im"
   ]
  },
  {
   "cell_type": "code",
   "execution_count": null,
   "metadata": {},
   "outputs": [],
   "source": []
  }
 ],
 "metadata": {
  "kernelspec": {
   "display_name": "Python (pytorch)",
   "language": "python",
   "name": "pytorch"
  },
  "language_info": {
   "codemirror_mode": {
    "name": "ipython",
    "version": 3
   },
   "file_extension": ".py",
   "mimetype": "text/x-python",
   "name": "python",
   "nbconvert_exporter": "python",
   "pygments_lexer": "ipython3",
   "version": "3.7.0"
  }
 },
 "nbformat": 4,
 "nbformat_minor": 2
}
