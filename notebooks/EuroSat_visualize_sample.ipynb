{
 "cells": [
  {
   "cell_type": "code",
   "execution_count": null,
   "metadata": {},
   "outputs": [],
   "source": [
    "from PIL import Image\n",
    "from os import path\n",
    "import rasterio\n",
    "from matplotlib import pyplot as plt\n",
    "import numpy as np\n",
    "import random"
   ]
  },
  {
   "cell_type": "code",
   "execution_count": null,
   "metadata": {},
   "outputs": [],
   "source": [
    "\n",
    "root_dir='/home/mate/dataset/ds/images/remote_sensing/otherDatasets/sentinel_2/tif'\n",
    "category = random.choice(['Highway']) # 'River', 'Industrial', \n",
    "index = random.randint(0, 1000)\n",
    "im_path = path.join(root_dir, category, category+'_{}.tif'.format(index))\n",
    "image = rasterio.open(im_path)\n",
    "\n",
    "stuff = image.read()\n",
    "im_path"
   ]
  },
  {
   "cell_type": "code",
   "execution_count": null,
   "metadata": {
    "scrolled": false
   },
   "outputs": [],
   "source": [
    "normalized = stuff[[3,2,1], :, :]/stuff[[3,2,1], :, :].max()\n",
    "np.swapaxes(normalized, 0, 2).shape\n",
    "\n",
    "fig = plt.figure(figsize=(20, 20))\n",
    "ax = fig.add_subplot(111)\n",
    "ax.imshow(np.swapaxes(normalized, 0, 2))"
   ]
  },
  {
   "cell_type": "code",
   "execution_count": null,
   "metadata": {},
   "outputs": [],
   "source": [
    "fig = plt.figure(figsize=(10, 10))\n",
    "\n",
    "titles = ['Aersols 60',\n",
    "         'Blue 10',\n",
    "         'Green 10',\n",
    "         'Red 10',\n",
    "         'Red edge1 20',\n",
    "         'Red edge2 20',\n",
    "         'Red edge3 20',\n",
    "         'NIR 10',\n",
    "         'Red edge4 20',\n",
    "         'Water vapor 60',\n",
    "         'Cirrus 60',\n",
    "         'SWIR1 20',\n",
    "         'SWIR2 20'\n",
    "         ]\n",
    "\n",
    "\n",
    "for i in range(13):\n",
    "    ax = fig.add_subplot(4, 4, i+1)\n",
    "    normalized = np.squeeze(stuff[[i], :, :]/stuff[i, :, :].max())\n",
    "    ax.imshow(normalized)\n",
    "    ax.set_title(str(i) + ': ' + titles[i])\n",
    "fig.tight_layout()"
   ]
  },
  {
   "cell_type": "code",
   "execution_count": null,
   "metadata": {},
   "outputs": [],
   "source": [
    "stuff[9, :, :]"
   ]
  },
  {
   "cell_type": "code",
   "execution_count": null,
   "metadata": {},
   "outputs": [],
   "source": [
    "%matplotlib notebook"
   ]
  },
  {
   "cell_type": "code",
   "execution_count": null,
   "metadata": {},
   "outputs": [],
   "source": []
  }
 ],
 "metadata": {
  "kernelspec": {
   "display_name": "Python (pytorch)",
   "language": "python",
   "name": "pytorch"
  },
  "language_info": {
   "codemirror_mode": {
    "name": "ipython",
    "version": 3
   },
   "file_extension": ".py",
   "mimetype": "text/x-python",
   "name": "python",
   "nbconvert_exporter": "python",
   "pygments_lexer": "ipython3",
   "version": "3.7.0"
  }
 },
 "nbformat": 4,
 "nbformat_minor": 2
}
