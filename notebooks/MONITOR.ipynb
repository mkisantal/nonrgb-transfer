{
 "cells": [
  {
   "cell_type": "code",
   "execution_count": null,
   "metadata": {},
   "outputs": [],
   "source": [
    "from matplotlib import pyplot as plt\n",
    "import numpy as np\n",
    "import json\n",
    "import os\n",
    "%matplotlib notebook"
   ]
  },
  {
   "cell_type": "code",
   "execution_count": null,
   "metadata": {},
   "outputs": [],
   "source": [
    "group = 'test_runs02'\n",
    "# runs = ['000_single_layer', '000_double_layer']\n",
    "runs = ['000_single_layer', '000_double_layer_narrow', '000_double_layer_very_narrow']\n",
    "def plot_training_history(runs, metrics):\n",
    "    fig = plt.figure()\n",
    "    num_plots = 1\n",
    "    \n",
    "    \n",
    "    histories = {}\n",
    "    for run in runs:\n",
    "        with open(os.path.join(group, run, 'history.json')) as f:\n",
    "            histories[run] = json.load(f)\n",
    "    \n",
    "    for i, crit in enumerate(metrics):\n",
    "        ax = fig.add_subplot(num_plots, 1, i+1)\n",
    "        ax.set_xlabel('epochs')\n",
    "        ax.set_ylabel(crit)\n",
    "        for run in runs:\n",
    "            if crit == 'loss':\n",
    "                ax.plot(np.array(histories[run][crit])[::2], label=run+'_train')\n",
    "                ax.plot(np.array(histories[run][crit])[1::2], label=run+'_eval')\n",
    "            else:\n",
    "                ax.plot(histories[run][crit], label=run)\n",
    "        ax.set_ylim(bottom=0) #, top=ax.get_ylim()[1]\n",
    "        fig.legend(loc=1,  title=\"run:\")\n",
    "        ax.grid(True)\n",
    "        if i == 1:\n",
    "            ax.set_ylim(bottom=0, top=1) #, top=ax.get_ylim()[1]\n",
    "#             fig.legend(loc=1,  title=\"run:\")\n",
    "    plt.tight_layout()"
   ]
  },
  {
   "cell_type": "code",
   "execution_count": null,
   "metadata": {},
   "outputs": [],
   "source": [
    "plot_training_history(runs, metrics=['loss'])"
   ]
  },
  {
   "cell_type": "code",
   "execution_count": null,
   "metadata": {},
   "outputs": [],
   "source": [
    "plot_training_history(runs, metrics=['accuracy'])"
   ]
  },
  {
   "cell_type": "code",
   "execution_count": null,
   "metadata": {},
   "outputs": [],
   "source": []
  },
  {
   "cell_type": "code",
   "execution_count": null,
   "metadata": {},
   "outputs": [],
   "source": []
  }
 ],
 "metadata": {
  "kernelspec": {
   "display_name": "Python (pytorch)",
   "language": "python",
   "name": "pytorch"
  },
  "language_info": {
   "codemirror_mode": {
    "name": "ipython",
    "version": 3
   },
   "file_extension": ".py",
   "mimetype": "text/x-python",
   "name": "python",
   "nbconvert_exporter": "python",
   "pygments_lexer": "ipython3",
   "version": "3.7.0"
  }
 },
 "nbformat": 4,
 "nbformat_minor": 2
}
